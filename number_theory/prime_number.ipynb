{
 "nbformat": 4,
 "nbformat_minor": 2,
 "metadata": {
  "language_info": {
   "name": "python",
   "codemirror_mode": {
    "name": "ipython",
    "version": 3
   }
  },
  "orig_nbformat": 2,
  "file_extension": ".py",
  "mimetype": "text/x-python",
  "name": "python",
  "npconvert_exporter": "python",
  "pygments_lexer": "ipython3",
  "version": 3
 },
 "cells": [
  {
   "source": [
    "# Prime number\n"
   ],
   "cell_type": "markdown",
   "metadata": {}
  },
  {
   "cell_type": "code",
   "execution_count": 2,
   "metadata": {},
   "outputs": [],
   "source": [
    "def is_prime(n):\n",
    "    # to be complete\n",
    "    return True"
   ]
  },
  {
   "source": [
    "## prime-counting function π(x)\n",
    "Let π(x) be the prime-counting function that gives the number of primes less than or equal to x, for any real number x.\n",
    "- For example, π(10) = 4, there are [2,3,5,7] totally 4 prime numbers less than 10\n"
   ],
   "cell_type": "markdown",
   "metadata": {}
  },
  {
   "cell_type": "code",
   "execution_count": null,
   "metadata": {},
   "outputs": [],
   "source": [
    "def pi(x):\n",
    "    # to be complete\n",
    "    return "
   ]
  }
 ]
}